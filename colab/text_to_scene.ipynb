{
  "nbformat": 4,
  "nbformat_minor": 0,
  "metadata": {
    "colab": {
      "provenance": [],
      "toc_visible": true,
      "authorship_tag": "ABX9TyOejwqz82m6b144vUkQL1eK",
      "include_colab_link": true
    },
    "kernelspec": {
      "name": "python3",
      "display_name": "Python 3"
    },
    "language_info": {
      "name": "python"
    }
  },
  "cells": [
    {
      "cell_type": "markdown",
      "metadata": {
        "id": "view-in-github",
        "colab_type": "text"
      },
      "source": [
        "<a href=\"https://colab.research.google.com/github/zzyunzhi/scene-language/blob/dev/colab/text_to_scene.ipynb\" target=\"_parent\"><img src=\"https://colab.research.google.com/assets/colab-badge.svg\" alt=\"Open In Colab\"/></a>"
      ]
    },
    {
      "cell_type": "markdown",
      "source": [
        "Text-to-3D generation using the Scene Language.\n",
        "[[Paper](https://arxiv.org/abs/2410.16770)]\n",
        "[[Page](https://ai.stanford.edu/~yzzhang/projects/scene-language/)]\n",
        "[[Code](https://github.com/zzyunzhi/scene-language)]"
      ],
      "metadata": {
        "id": "xwnqWRBnwwBc"
      }
    },
    {
      "cell_type": "markdown",
      "source": [
        "# Installation"
      ],
      "metadata": {
        "id": "zr7Fb8-o3x20"
      }
    },
    {
      "cell_type": "code",
      "metadata": {
        "id": "588a118b"
      },
      "source": [
        "# This is required by transforms3d for python 3.11.\n",
        "# You will need to restart the session once afterwards.\n",
        "!pip install \"numpy<2.0.0\""
      ],
      "execution_count": null,
      "outputs": []
    },
    {
      "cell_type": "code",
      "execution_count": null,
      "metadata": {
        "collapsed": true,
        "id": "otaiq2neb_wx"
      },
      "outputs": [],
      "source": [
        "!cd /content/ && git clone https://github.com/zzyunzhi/scene-language.git\n",
        "!cd /content/scene-language && pip install -e ."
      ]
    },
    {
      "cell_type": "code",
      "source": [
        "%cd /content/scene-language"
      ],
      "metadata": {
        "id": "TkT7en2xc7Y1"
      },
      "execution_count": null,
      "outputs": []
    },
    {
      "cell_type": "code",
      "source": [
        "from pathlib import Path\n",
        "import anthropic\n",
        "import json\n",
        "\n",
        "from engine.utils.argparse_utils import setup_save_dir, modify_string_for_file\n",
        "from engine.constants import ENGINE_MODE, PROJ_DIR\n",
        "import engine.utils.claude_client\n",
        "\n",
        "from scripts.run_utils import SYSTEM_HEADER, run, SYSTEM_RULES, read_example, save_prompts"
      ],
      "metadata": {
        "id": "paPLEUZJlBkM"
      },
      "execution_count": null,
      "outputs": []
    },
    {
      "cell_type": "markdown",
      "source": [
        "# Set LLM prompts"
      ],
      "metadata": {
        "id": "TbAkLytL33Da"
      }
    },
    {
      "cell_type": "markdown",
      "source": [
        "Running this script for one task prompt will consume ~`2.1k * NUM_COMPLETIONS` input tokens (as long as your task description is not crazily long) and <= `MAX_OUTPUT_TOKENS * NUM_COMPLETIONS` output tokens.\n",
        "The exact input token counts will be displayed below before the actual LLM query."
      ],
      "metadata": {
        "id": "TjHeZCYS4Sok"
      }
    },
    {
      "cell_type": "code",
      "source": [
        "# Please check https://docs.anthropic.com/en/api/overview#accessing-the-api\n",
        "# if you are not sure what it is.\n",
        "ANTHROPIC_API_KEY = \"\""
      ],
      "metadata": {
        "id": "-O5C-xhwmJKd"
      },
      "execution_count": null,
      "outputs": []
    },
    {
      "cell_type": "code",
      "source": [
        "MAX_OUTPUT_TOKENS = 8192  # Decrease for lower cost budget\n",
        "NUM_COMPLETIONS = 2\n",
        "\n",
        "### Your scene description: ###\n",
        "task = \"A busy city.\""
      ],
      "metadata": {
        "id": "osd5lLiWCCQp"
      },
      "execution_count": null,
      "outputs": []
    },
    {
      "cell_type": "code",
      "source": [
        "engine.utils.claude_client.ANTHROPIC_API_KEY = ANTHROPIC_API_KEY\n",
        "engine.utils.claude_client.MAX_TOKENS = MAX_OUTPUT_TOKENS"
      ],
      "metadata": {
        "id": "GRq15ye5nSnK"
      },
      "execution_count": null,
      "outputs": []
    },
    {
      "cell_type": "code",
      "source": [
        "system_prompt = \"\"\"\\\n",
        "You are a code completion model and can only write python functions wrapped within ```python```.\n",
        "\n",
        "You are provided with the following `helper.py` which defines the given functions and definitions:\n",
        "```python\n",
        "{header}\n",
        "```\n",
        "\n",
        "{rules}\n",
        "\n",
        "You should be precise and creative.\n",
        "\"\"\".format(\n",
        "    header=SYSTEM_HEADER, rules=SYSTEM_RULES\n",
        ")\n",
        "\n",
        "\n",
        "user_prompt = '''Here are some examples of how to use `helper.py`:\n",
        "```python\n",
        "{example}\n",
        "```\n",
        "IMPORTANT: THE FUNCTIONS ABOVE ARE JUST EXAMPLES, YOU CANNOT USE THEM IN YOUR PROGRAM!\n",
        "\n",
        "Now, write a similar program for the given task:\n",
        "```python\n",
        "from helper import *\n",
        "\n",
        "\"\"\"\n",
        "{task}\n",
        "\"\"\"\n",
        "```\n",
        "'''.format(\n",
        "    task=task,\n",
        "    example=read_example(animate=False),\n",
        ")\n",
        "\n",
        "client = anthropic.Anthropic(api_key=ANTHROPIC_API_KEY)\n",
        "\n",
        "response = client.messages.count_tokens(\n",
        "    model=engine.utils.claude_client.CLAUDE_MODEL_NAME,\n",
        "    system=system_prompt,\n",
        "    messages=[{\n",
        "        \"role\": \"user\",\n",
        "        \"content\": user_prompt,\n",
        "    }],\n",
        ")\n",
        "print(f'The following cell will query {engine.utils.claude_client.CLAUDE_MODEL_NAME} {NUM_COMPLETIONS} times.')\n",
        "print(f'In total, it will cost {json.loads(response.model_dump_json())[\"input_tokens\"] * NUM_COMPLETIONS} input tokens \\\n",
        "and <= {MAX_OUTPUT_TOKENS * NUM_COMPLETIONS} output tokens.')\n"
      ],
      "metadata": {
        "id": "jVsrTDYdcLEq"
      },
      "execution_count": null,
      "outputs": []
    },
    {
      "cell_type": "code",
      "source": [
        "save_dir = Path(\"/content/outputs\")\n",
        "save_dir.mkdir(exist_ok=True)\n",
        "\n",
        "name = modify_string_for_file(task)\n",
        "save_subdir = save_dir / name\n",
        "save_subdir.mkdir(exist_ok=True)\n",
        "print(f\"Outputs will be saved under {save_subdir}.\")\n",
        "\n",
        "# save system prompt and user prompt as .txt files\n",
        "save_prompts(save_subdir.as_posix(), system_prompt, user_prompt)"
      ],
      "metadata": {
        "id": "_N0rcG3BllTf"
      },
      "execution_count": null,
      "outputs": []
    },
    {
      "cell_type": "markdown",
      "source": [
        "# Query LLM & render"
      ],
      "metadata": {
        "id": "NONSm_7sFKZL"
      }
    },
    {
      "cell_type": "markdown",
      "source": [
        "\n",
        "Running the following sesison multiple times the same system, user prompt, and temperature will retrieve cached results, even if you changed `MAX_OUTPUT_TOKENS`.\n",
        "This means that you need to increase `num_completions` or manually remove `/content/scene-language/cache.json` for new queries."
      ],
      "metadata": {
        "id": "AelSvK_W5v1n"
      }
    },
    {
      "cell_type": "code",
      "source": [
        "_ = run(\n",
        "    save_dir=save_subdir.as_posix(),\n",
        "    user_prompt=user_prompt,\n",
        "    system_prompt=system_prompt,\n",
        "    extra_info={\"task\": task},\n",
        "    lm_config={\n",
        "        \"num_completions\": NUM_COMPLETIONS,\n",
        "        \"temperature\": 0.2,\n",
        "    },\n",
        ")"
      ],
      "metadata": {
        "id": "kYAsAkyL22eQ"
      },
      "execution_count": null,
      "outputs": []
    },
    {
      "cell_type": "code",
      "metadata": {
        "id": "143be55e"
      },
      "source": [
        "from IPython.display import Image\n",
        "\n",
        "for p in save_dir.glob(\"*/*/renderings/*.gif\"):\n",
        "    print(f\"Displaying {p}\")\n",
        "    display(Image(filename=p))"
      ],
      "execution_count": null,
      "outputs": []
    }
  ]
}